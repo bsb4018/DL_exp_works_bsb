{
 "cells": [
  {
   "cell_type": "code",
   "execution_count": null,
   "metadata": {},
   "outputs": [],
   "source": []
  },
  {
   "cell_type": "code",
   "execution_count": null,
   "metadata": {},
   "outputs": [],
   "source": []
  },
  {
   "cell_type": "code",
   "execution_count": null,
   "metadata": {},
   "outputs": [],
   "source": []
  },
  {
   "cell_type": "code",
   "execution_count": null,
   "metadata": {},
   "outputs": [],
   "source": []
  },
  {
   "cell_type": "code",
   "execution_count": null,
   "metadata": {},
   "outputs": [],
   "source": [
    "# Using Pre-trained Models in PyTorch to get Rank-1 and Rank-5 Accuracy\n",
    "\n",
    "# Load our pre-trained VGG16\n",
    "import torchvision.models as models\n",
    "\n",
    "model = models.vgg16(pretrained=True)"
   ]
  },
  {
   "cell_type": "code",
   "execution_count": null,
   "metadata": {},
   "outputs": [],
   "source": [
    "# Normalisation of input images\n",
    "\n",
    "from torchvision import datasets, transforms, models\n",
    "\n",
    "data_dir = '/images'\n",
    "\n",
    "test_transforms = transforms.Compose([transforms.Resize((224,224)),\n",
    "                                      transforms.ToTensor(),])"
   ]
  },
  {
   "cell_type": "code",
   "execution_count": null,
   "metadata": {},
   "outputs": [],
   "source": [
    "model.eval()"
   ]
  },
  {
   "cell_type": "code",
   "execution_count": null,
   "metadata": {},
   "outputs": [],
   "source": [
    "# Get the imageNet Class label names and test images\n",
    "#classess from file -> imageNetclasses.json\n",
    "# imgaes from file -> magesDLCV.zip\n",
    "!unzip imagesDLCV.zip\n",
    "!rm -rf ./images/class1/.DS_Store"
   ]
  },
  {
   "cell_type": "code",
   "execution_count": null,
   "metadata": {},
   "outputs": [],
   "source": [
    "#Importing modules\n",
    "\n",
    "import torch\n",
    "import json\n",
    "from PIL import Image\n",
    "from torch.autograd import Variable\n",
    "import matplotlib.pyplot as plt\n",
    "import numpy as np\n",
    "\n",
    "device = torch.device(\"cuda\" if torch.cuda.is_available() else \"cpu\")\n",
    "\n",
    "with open('imageNetclasses.json') as f:\n",
    "  class_names = json.load(f)"
   ]
  },
  {
   "cell_type": "code",
   "execution_count": null,
   "metadata": {},
   "outputs": [],
   "source": [
    "# Load and run a single image through our pre-trained model\n",
    "from PIL import Image\n",
    "import numpy as np\n",
    "\n",
    "image = Image.open('./images/class1/1539714414867.jpg')\n",
    "\n",
    "# Convert to Tensor\n",
    "image_tensor = test_transforms(image).float()\n",
    "image_tensor = image_tensor.unsqueeze_(0)\n",
    "input = Variable(image_tensor)\n",
    "input = input.to(device)\n",
    "output = model(input)\n",
    "index = output.data.cpu().numpy().argmax()\n",
    "name = class_names[str(index)]\n",
    "\n",
    "# Plot image\n",
    "fig=plt.figure(figsize=(8,8))\n",
    "plt.axis('off')\n",
    "plt.title(f'Predicted {name}')\n",
    "plt.imshow(image)\n",
    "plt.show()"
   ]
  },
  {
   "cell_type": "code",
   "execution_count": null,
   "metadata": {},
   "outputs": [],
   "source": [
    "# Get our Class Probabilities\n",
    "import torch.nn.functional as nnf\n",
    "\n",
    "prob = nnf.softmax(output, dim=1)\n",
    "\n",
    "top_p, top_class = prob.topk(5, dim = 1)\n",
    "print(top_p, top_class)"
   ]
  },
  {
   "cell_type": "code",
   "execution_count": null,
   "metadata": {},
   "outputs": [],
   "source": [
    "# Convert to numpy array\n",
    "top_class_np = top_class.cpu().data.numpy()[0]\n",
    "top_class_np"
   ]
  },
  {
   "cell_type": "code",
   "execution_count": null,
   "metadata": {},
   "outputs": [],
   "source": [
    "# Create a class that gives us our class names\n",
    "\n",
    "def getClassNames(top_classes):\n",
    "  top_classes = top_classes.cpu().data.numpy()[0]\n",
    "  all_classes = []\n",
    "  for top_class in top_classes:\n",
    "    all_classes.append(class_names[str(top_class)])\n",
    "  return all_classes"
   ]
  },
  {
   "cell_type": "code",
   "execution_count": null,
   "metadata": {},
   "outputs": [],
   "source": [
    "getClassNames(top_class)"
   ]
  },
  {
   "cell_type": "code",
   "execution_count": null,
   "metadata": {},
   "outputs": [],
   "source": [
    "# Construct our function to give us our Rank-N Accuracy\n",
    "\n",
    "from os import listdir\n",
    "from os.path import isfile, join\n",
    "import matplotlib.pyplot as plt\n",
    "\n",
    "fig=plt.figure(figsize=(16,16))\n",
    "\n",
    "def getRankN(model, directory, ground_truth, N, show_images = True):\n",
    "  # Get image names in directory\n",
    "  onlyfiles = [f for f in listdir(directory) if isfile(join(directory, f))]\n",
    "\n",
    "  # We'll store the top-N class names here\n",
    "  all_top_classes = []\n",
    "\n",
    "  # Iterate through our test images\n",
    "  for (i,image_filename) in enumerate(onlyfiles):\n",
    "    image = Image.open(directory+image_filename)\n",
    "\n",
    "    # Convert to Tensor\n",
    "    image_tensor = test_transforms(image).float()\n",
    "    image_tensor = image_tensor.unsqueeze_(0)\n",
    "    input = Variable(image_tensor)\n",
    "    input = input.to(device)\n",
    "    output = model(input)\n",
    "    # Get our probabilties and top-N class names\n",
    "    prob = nnf.softmax(output, dim=1)\n",
    "    top_p, top_class = prob.topk(N, dim = 1)\n",
    "    top_class_names = getClassNames(top_class)\n",
    "    all_top_classes.append(top_class_names)\n",
    "\n",
    "    if show_images:\n",
    "      # Plot image\n",
    "      sub = fig.add_subplot(len(onlyfiles),1, i+1)\n",
    "      x = \" ,\".join(top_class_names)\n",
    "      print(f'Top {N} Predicted Classes {x}')\n",
    "      plt.axis('off')\n",
    "      plt.imshow(image)\n",
    "      plt.show()\n",
    "\n",
    "  return getScore(all_top_classes, ground_truth, N)\n",
    "\n",
    "def getScore(all_top_classes, ground_truth, N):\n",
    "  # Calcuate rank-N score\n",
    "  in_labels = 0\n",
    "  for (i,labels) in enumerate(all_top_classes):\n",
    "    if ground_truth[i] in labels:\n",
    "      in_labels += 1\n",
    "  return f'Rank-{N} Accuracy = {in_labels/len(all_top_classes)*100:.2f}%'"
   ]
  },
  {
   "cell_type": "code",
   "execution_count": null,
   "metadata": {},
   "outputs": [],
   "source": [
    "# Create our ground truth labels\n",
    "ground_truth = ['basketball',\n",
    "                'German shepherd, German shepherd dog, German police dog, alsatian',\n",
    "                'limousine, limo',\n",
    "                \"spider web, spider's web\",\n",
    "                'burrito',\n",
    "                'beer_glass',\n",
    "                'doormat, welcome mat',\n",
    "                'Christmas stocking',\n",
    "               'collie']"
   ]
  },
  {
   "cell_type": "code",
   "execution_count": null,
   "metadata": {},
   "outputs": [],
   "source": [
    "# Get Rank-5 Accuracy\n",
    "getRankN(model,'./images/class1/', ground_truth, N=5)"
   ]
  },
  {
   "cell_type": "code",
   "execution_count": null,
   "metadata": {},
   "outputs": [],
   "source": [
    "# Get Rank-1 Accuracy\n",
    "getRankN(model,'./images/class1/', ground_truth, N=1)"
   ]
  },
  {
   "cell_type": "code",
   "execution_count": null,
   "metadata": {},
   "outputs": [],
   "source": [
    "# Get Rank-10 Accuracy\n",
    "\n",
    "getRankN(model,'./images/class1/', ground_truth, N=10)"
   ]
  },
  {
   "cell_type": "code",
   "execution_count": null,
   "metadata": {},
   "outputs": [],
   "source": []
  },
  {
   "cell_type": "code",
   "execution_count": null,
   "metadata": {},
   "outputs": [],
   "source": []
  },
  {
   "cell_type": "code",
   "execution_count": null,
   "metadata": {},
   "outputs": [],
   "source": []
  },
  {
   "cell_type": "code",
   "execution_count": null,
   "metadata": {},
   "outputs": [],
   "source": []
  },
  {
   "cell_type": "code",
   "execution_count": null,
   "metadata": {},
   "outputs": [],
   "source": []
  },
  {
   "cell_type": "code",
   "execution_count": null,
   "metadata": {},
   "outputs": [],
   "source": []
  },
  {
   "cell_type": "code",
   "execution_count": null,
   "metadata": {},
   "outputs": [],
   "source": []
  },
  {
   "cell_type": "code",
   "execution_count": null,
   "metadata": {},
   "outputs": [],
   "source": []
  },
  {
   "cell_type": "code",
   "execution_count": null,
   "metadata": {},
   "outputs": [],
   "source": []
  },
  {
   "cell_type": "code",
   "execution_count": null,
   "metadata": {},
   "outputs": [],
   "source": []
  },
  {
   "cell_type": "code",
   "execution_count": null,
   "metadata": {},
   "outputs": [],
   "source": []
  },
  {
   "cell_type": "code",
   "execution_count": null,
   "metadata": {},
   "outputs": [],
   "source": []
  }
 ],
 "metadata": {
  "kernelspec": {
   "display_name": "gendev",
   "language": "python",
   "name": "python3"
  },
  "language_info": {
   "name": "python",
   "version": "3.8.13 (default, Mar 28 2022, 06:59:08) [MSC v.1916 64 bit (AMD64)]"
  },
  "orig_nbformat": 4,
  "vscode": {
   "interpreter": {
    "hash": "957c0960a41ceee45c80bc68b1e41107b85cf57fba7704f571c35b1ea64b2957"
   }
  }
 },
 "nbformat": 4,
 "nbformat_minor": 2
}
