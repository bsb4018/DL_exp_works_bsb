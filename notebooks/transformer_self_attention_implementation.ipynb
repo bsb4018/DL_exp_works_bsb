{
  "nbformat": 4,
  "nbformat_minor": 0,
  "metadata": {
    "colab": {
      "provenance": []
    },
    "kernelspec": {
      "name": "python3",
      "display_name": "Python 3"
    },
    "language_info": {
      "name": "python"
    }
  },
  "cells": [
    {
      "cell_type": "code",
      "execution_count": 1,
      "metadata": {
        "id": "hEtOwTtHnmcB"
      },
      "outputs": [],
      "source": [
        "# Transformer-Self-Attention-Implementation"
      ]
    },
    {
      "cell_type": "code",
      "source": [
        "# Generating Data\n",
        "\n",
        "import numpy as np\n",
        "import math\n",
        "\n",
        "L, d_k, d_v = 4, 8, 8\n",
        "q = np.random.randn(L, d_k)\n",
        "k = np.random.randn(L, d_k)\n",
        "v = np.random.randn(L, d_v)\n",
        "\n",
        "print(\"Q\\n\", q)\n",
        "print(\"K\\n\", k)\n",
        "print(\"V\\n\", v)"
      ],
      "metadata": {
        "colab": {
          "base_uri": "https://localhost:8080/"
        },
        "id": "WNbxyHkWnxOc",
        "outputId": "78aab489-9a6d-402a-eca7-cdb97725182c"
      },
      "execution_count": 2,
      "outputs": [
        {
          "output_type": "stream",
          "name": "stdout",
          "text": [
            "Q\n",
            " [[-0.2223086  -0.31633868 -0.09647073 -0.54942748  1.09366307  0.18765609\n",
            "   0.93622365  2.13806364]\n",
            " [-0.11915798 -1.72812429 -0.6525256  -3.31598736 -0.86431895  0.54983089\n",
            "   0.38302276  0.57265537]\n",
            " [-0.38238403 -0.5688977   0.09216993  2.18935556  1.21742175  1.00742316\n",
            "   0.04253056 -0.33943216]\n",
            " [ 1.62386815 -0.35051662  0.33866687 -0.16296746  1.79872054  0.77132772\n",
            "  -1.39786049 -0.69209865]]\n",
            "K\n",
            " [[ 0.08519891 -0.16788269  0.80788457  1.22150825 -0.66576594  1.2190729\n",
            "   0.36792822 -0.64887914]\n",
            " [ 0.21002585 -1.89670433 -0.31777078 -0.14812503  0.52837649  1.41851944\n",
            "   0.74911016  1.71469443]\n",
            " [ 0.11823098  0.04111385 -0.4514374  -0.43314656  2.33862035  1.09578609\n",
            "  -1.03272727 -0.03324421]\n",
            " [-0.47049314  0.42894361  0.67529536  0.21552885  0.85375428  1.105311\n",
            "   0.56902524 -0.37556222]]\n",
            "V\n",
            " [[ 0.64576293 -0.05969949 -0.02437854  0.3714553   0.04953169  0.36178736\n",
            "   1.28640854 -0.4881781 ]\n",
            " [-0.19955745 -0.8352465  -0.01323093 -0.88872444  1.81330185  0.93644836\n",
            "  -0.31709009  0.75153226]\n",
            " [-0.77812876  1.15997341 -0.29721625  0.08270146  0.84976736  1.19477205\n",
            "   0.01706673  0.34046915]\n",
            " [-0.7411889   0.62333833  0.29388705 -1.76504969 -1.2343077   0.77209509\n",
            "  -0.58596641 -0.18041351]]\n"
          ]
        }
      ]
    },
    {
      "cell_type": "markdown",
      "source": [
        "## Self Attention\n",
        "\n",
        "$$\n",
        "\\text{self attention} = softmax\\bigg(\\frac{Q.K^T}{\\sqrt{d_k}}+M\\bigg)\n",
        "$$\n",
        "\n",
        "$$\n",
        "\\text{new V} = \\text{self attention}.V\n",
        "$$"
      ],
      "metadata": {
        "id": "7ZphR7DRoQED"
      }
    },
    {
      "cell_type": "code",
      "source": [
        "np.matmul(q, k.T)"
      ],
      "metadata": {
        "colab": {
          "base_uri": "https://localhost:8080/"
        },
        "id": "A_EO2uVRoLxc",
        "outputId": "6f529758-1eb2-4828-bd99-5a14e1d36f8a"
      },
      "execution_count": 3,
      "outputs": [
        {
          "output_type": "execute_result",
          "data": {
            "text/plain": [
              "array([[-2.25713905,  5.87687007,  1.96759519,  0.65623634],\n",
              "       [-3.28264242,  5.54336407, -0.18766741, -1.96784328],\n",
              "       [ 3.46521088,  2.16727693,  2.85984927,  2.77456903],\n",
              "       [-0.05071099,  0.73305762,  6.61363391,  1.13193588]])"
            ]
          },
          "metadata": {},
          "execution_count": 3
        }
      ]
    },
    {
      "cell_type": "code",
      "source": [
        "# Why we need sqrt(d_k) in denominator\n",
        "q.var(), k.var(), np.matmul(q, k.T).var()"
      ],
      "metadata": {
        "colab": {
          "base_uri": "https://localhost:8080/"
        },
        "id": "sLhv3RTkoL0d",
        "outputId": "fcfed204-2c94-4cef-8b16-0b62b7df9fcd"
      },
      "execution_count": 4,
      "outputs": [
        {
          "output_type": "execute_result",
          "data": {
            "text/plain": [
              "(1.2443537270952494, 0.7215835889093534, 7.81862040434553)"
            ]
          },
          "metadata": {},
          "execution_count": 4
        }
      ]
    },
    {
      "cell_type": "code",
      "source": [
        "scaled = np.matmul(q, k.T) / math.sqrt(d_k)\n",
        "q.var(), k.var(), scaled.var()"
      ],
      "metadata": {
        "colab": {
          "base_uri": "https://localhost:8080/"
        },
        "id": "6SZIcOhroL3K",
        "outputId": "2bcf784a-3868-4c67-f43b-a25f3b0fada4"
      },
      "execution_count": 5,
      "outputs": [
        {
          "output_type": "execute_result",
          "data": {
            "text/plain": [
              "(1.2443537270952494, 0.7215835889093534, 0.977327550543191)"
            ]
          },
          "metadata": {},
          "execution_count": 5
        }
      ]
    },
    {
      "cell_type": "code",
      "source": [
        "scaled"
      ],
      "metadata": {
        "colab": {
          "base_uri": "https://localhost:8080/"
        },
        "id": "hF66QED4oL5t",
        "outputId": "af5ca73e-35df-4f18-f5b1-4eafb38db1eb"
      },
      "execution_count": 6,
      "outputs": [
        {
          "output_type": "execute_result",
          "data": {
            "text/plain": [
              "array([[-0.79801916,  2.07778734,  0.69564995,  0.23201458],\n",
              "       [-1.16058936,  1.95987516, -0.06635045, -0.69573766],\n",
              "       [ 1.22513706,  0.76624811,  1.01110941,  0.98095829],\n",
              "       [-0.01792904,  0.25917501,  2.33827269,  0.40019977]])"
            ]
          },
          "metadata": {},
          "execution_count": 6
        }
      ]
    },
    {
      "cell_type": "code",
      "source": [
        "### Masking\n",
        "\n",
        "# This is to ensure words don't get context from words generated in the future.\n",
        "# Not required in the encoders, but required int he decoders\n",
        "\n",
        "mask = np.tril(np.ones( (L, L) ))\n",
        "mask"
      ],
      "metadata": {
        "colab": {
          "base_uri": "https://localhost:8080/"
        },
        "id": "EvhPF4taoL8I",
        "outputId": "047b039e-4e8c-4876-aca9-960e4d2b8934"
      },
      "execution_count": 7,
      "outputs": [
        {
          "output_type": "execute_result",
          "data": {
            "text/plain": [
              "array([[1., 0., 0., 0.],\n",
              "       [1., 1., 0., 0.],\n",
              "       [1., 1., 1., 0.],\n",
              "       [1., 1., 1., 1.]])"
            ]
          },
          "metadata": {},
          "execution_count": 7
        }
      ]
    },
    {
      "cell_type": "code",
      "source": [
        "mask[mask == 0] = -np.infty\n",
        "mask[mask == 1] = 0\n",
        "\n",
        "mask"
      ],
      "metadata": {
        "colab": {
          "base_uri": "https://localhost:8080/"
        },
        "id": "V1DODuvmoL-q",
        "outputId": "0370db50-7cf3-4f62-b063-d141816667d8"
      },
      "execution_count": 8,
      "outputs": [
        {
          "output_type": "execute_result",
          "data": {
            "text/plain": [
              "array([[  0., -inf, -inf, -inf],\n",
              "       [  0.,   0., -inf, -inf],\n",
              "       [  0.,   0.,   0., -inf],\n",
              "       [  0.,   0.,   0.,   0.]])"
            ]
          },
          "metadata": {},
          "execution_count": 8
        }
      ]
    },
    {
      "cell_type": "code",
      "source": [
        "scaled + mask"
      ],
      "metadata": {
        "colab": {
          "base_uri": "https://localhost:8080/"
        },
        "id": "FX8R3ISKoMA0",
        "outputId": "8256d793-0284-4649-981d-103e90d854ef"
      },
      "execution_count": 9,
      "outputs": [
        {
          "output_type": "execute_result",
          "data": {
            "text/plain": [
              "array([[-0.79801916,        -inf,        -inf,        -inf],\n",
              "       [-1.16058936,  1.95987516,        -inf,        -inf],\n",
              "       [ 1.22513706,  0.76624811,  1.01110941,        -inf],\n",
              "       [-0.01792904,  0.25917501,  2.33827269,  0.40019977]])"
            ]
          },
          "metadata": {},
          "execution_count": 9
        }
      ]
    },
    {
      "cell_type": "markdown",
      "source": [
        "## Softmax\n",
        "\n",
        "$$\n",
        "\\text{softmax} = \\frac{e^{x_i}}{\\sum_j e^x_j}\n",
        "$$"
      ],
      "metadata": {
        "id": "YaDrvfNLow4n"
      }
    },
    {
      "cell_type": "code",
      "source": [
        "def softmax(x):\n",
        "  return (np.exp(x).T / np.sum(np.exp(x), axis=-1)).T"
      ],
      "metadata": {
        "id": "eI_3v2t-oMDm"
      },
      "execution_count": 10,
      "outputs": []
    },
    {
      "cell_type": "code",
      "source": [
        "attention = softmax(scaled + mask)\n",
        "attention"
      ],
      "metadata": {
        "colab": {
          "base_uri": "https://localhost:8080/"
        },
        "id": "n7jDZJ9foMGD",
        "outputId": "2a80e616-28e8-4070-ada7-7e7f7316ffec"
      },
      "execution_count": 11,
      "outputs": [
        {
          "output_type": "execute_result",
          "data": {
            "text/plain": [
              "array([[1.        , 0.        , 0.        , 0.        ],\n",
              "       [0.04227096, 0.95772904, 0.        , 0.        ],\n",
              "       [0.40995174, 0.25908353, 0.33096473, 0.        ],\n",
              "       [0.06949647, 0.09168694, 0.73324337, 0.10557322]])"
            ]
          },
          "metadata": {},
          "execution_count": 11
        }
      ]
    },
    {
      "cell_type": "code",
      "source": [
        "new_v = np.matmul(attention, v)\n",
        "new_v"
      ],
      "metadata": {
        "colab": {
          "base_uri": "https://localhost:8080/"
        },
        "id": "pnOITXI8oMKo",
        "outputId": "63f535b9-57c0-48c6-98e6-40d5d694c268"
      },
      "execution_count": 12,
      "outputs": [
        {
          "output_type": "execute_result",
          "data": {
            "text/plain": [
              "array([[ 0.64576293, -0.05969949, -0.02437854,  0.3714553 ,  0.04953169,\n",
              "         0.36178736,  1.28640854, -0.4881781 ],\n",
              "       [-0.16382495, -0.80246338, -0.01370215, -0.83545543,  1.73874559,\n",
              "         0.91215688, -0.24930866,  0.69912851],\n",
              "       [-0.04450358,  0.14303776, -0.11179004, -0.05060385,  0.77134527,\n",
              "         0.78636111,  0.45086109,  0.10726344],\n",
              "       [-0.62222602,  0.83562054, -0.18981257, -0.18137128,  0.66247482,\n",
              "         1.06857428,  0.01097954,  0.26557895]])"
            ]
          },
          "metadata": {},
          "execution_count": 12
        }
      ]
    },
    {
      "cell_type": "code",
      "source": [
        "v"
      ],
      "metadata": {
        "colab": {
          "base_uri": "https://localhost:8080/"
        },
        "id": "nf8v0DIboMNg",
        "outputId": "d9f9274c-8ae3-464b-b1a4-c9ee4e16f566"
      },
      "execution_count": 13,
      "outputs": [
        {
          "output_type": "execute_result",
          "data": {
            "text/plain": [
              "array([[ 0.64576293, -0.05969949, -0.02437854,  0.3714553 ,  0.04953169,\n",
              "         0.36178736,  1.28640854, -0.4881781 ],\n",
              "       [-0.19955745, -0.8352465 , -0.01323093, -0.88872444,  1.81330185,\n",
              "         0.93644836, -0.31709009,  0.75153226],\n",
              "       [-0.77812876,  1.15997341, -0.29721625,  0.08270146,  0.84976736,\n",
              "         1.19477205,  0.01706673,  0.34046915],\n",
              "       [-0.7411889 ,  0.62333833,  0.29388705, -1.76504969, -1.2343077 ,\n",
              "         0.77209509, -0.58596641, -0.18041351]])"
            ]
          },
          "metadata": {},
          "execution_count": 13
        }
      ]
    },
    {
      "cell_type": "code",
      "source": [
        "#Attention"
      ],
      "metadata": {
        "id": "LI7q7zRTpFK1"
      },
      "execution_count": 14,
      "outputs": []
    },
    {
      "cell_type": "code",
      "source": [
        "def softmax(x):\n",
        "  return (np.exp(x).T / np.sum(np.exp(x), axis=-1)).T\n",
        "\n",
        "def scaled_dot_product_attention(q, k, v, mask=None):\n",
        "  d_k = q.shape[-1]\n",
        "  scaled = np.matmul(q, k.T) / math.sqrt(d_k)\n",
        "  if mask is not None:\n",
        "    scaled = scaled + mask\n",
        "  attention = softmax(scaled)\n",
        "  out = np.matmul(attention, v)\n",
        "  return out, attention"
      ],
      "metadata": {
        "id": "JqSFtwW1nxRE"
      },
      "execution_count": 15,
      "outputs": []
    },
    {
      "cell_type": "code",
      "source": [
        "values, attention = scaled_dot_product_attention(q, k, v, mask=mask)\n",
        "print(\"Q\\n\", q)\n",
        "print(\"K\\n\", k)\n",
        "print(\"V\\n\", v)\n",
        "print(\"New V\\n\", values)\n",
        "print(\"Attention\\n\", attention)"
      ],
      "metadata": {
        "colab": {
          "base_uri": "https://localhost:8080/"
        },
        "id": "tIGHAtgOnxTi",
        "outputId": "c71acdf7-4175-4d14-d96f-5c1a595e3099"
      },
      "execution_count": 16,
      "outputs": [
        {
          "output_type": "stream",
          "name": "stdout",
          "text": [
            "Q\n",
            " [[-0.2223086  -0.31633868 -0.09647073 -0.54942748  1.09366307  0.18765609\n",
            "   0.93622365  2.13806364]\n",
            " [-0.11915798 -1.72812429 -0.6525256  -3.31598736 -0.86431895  0.54983089\n",
            "   0.38302276  0.57265537]\n",
            " [-0.38238403 -0.5688977   0.09216993  2.18935556  1.21742175  1.00742316\n",
            "   0.04253056 -0.33943216]\n",
            " [ 1.62386815 -0.35051662  0.33866687 -0.16296746  1.79872054  0.77132772\n",
            "  -1.39786049 -0.69209865]]\n",
            "K\n",
            " [[ 0.08519891 -0.16788269  0.80788457  1.22150825 -0.66576594  1.2190729\n",
            "   0.36792822 -0.64887914]\n",
            " [ 0.21002585 -1.89670433 -0.31777078 -0.14812503  0.52837649  1.41851944\n",
            "   0.74911016  1.71469443]\n",
            " [ 0.11823098  0.04111385 -0.4514374  -0.43314656  2.33862035  1.09578609\n",
            "  -1.03272727 -0.03324421]\n",
            " [-0.47049314  0.42894361  0.67529536  0.21552885  0.85375428  1.105311\n",
            "   0.56902524 -0.37556222]]\n",
            "V\n",
            " [[ 0.64576293 -0.05969949 -0.02437854  0.3714553   0.04953169  0.36178736\n",
            "   1.28640854 -0.4881781 ]\n",
            " [-0.19955745 -0.8352465  -0.01323093 -0.88872444  1.81330185  0.93644836\n",
            "  -0.31709009  0.75153226]\n",
            " [-0.77812876  1.15997341 -0.29721625  0.08270146  0.84976736  1.19477205\n",
            "   0.01706673  0.34046915]\n",
            " [-0.7411889   0.62333833  0.29388705 -1.76504969 -1.2343077   0.77209509\n",
            "  -0.58596641 -0.18041351]]\n",
            "New V\n",
            " [[ 0.64576293 -0.05969949 -0.02437854  0.3714553   0.04953169  0.36178736\n",
            "   1.28640854 -0.4881781 ]\n",
            " [-0.16382495 -0.80246338 -0.01370215 -0.83545543  1.73874559  0.91215688\n",
            "  -0.24930866  0.69912851]\n",
            " [-0.04450358  0.14303776 -0.11179004 -0.05060385  0.77134527  0.78636111\n",
            "   0.45086109  0.10726344]\n",
            " [-0.62222602  0.83562054 -0.18981257 -0.18137128  0.66247482  1.06857428\n",
            "   0.01097954  0.26557895]]\n",
            "Attention\n",
            " [[1.         0.         0.         0.        ]\n",
            " [0.04227096 0.95772904 0.         0.        ]\n",
            " [0.40995174 0.25908353 0.33096473 0.        ]\n",
            " [0.06949647 0.09168694 0.73324337 0.10557322]]\n"
          ]
        }
      ]
    },
    {
      "cell_type": "code",
      "source": [],
      "metadata": {
        "id": "D2vfgOz3nxWA"
      },
      "execution_count": 16,
      "outputs": []
    },
    {
      "cell_type": "code",
      "source": [],
      "metadata": {
        "id": "VmhsT12ZnxYe"
      },
      "execution_count": 16,
      "outputs": []
    },
    {
      "cell_type": "code",
      "source": [],
      "metadata": {
        "id": "draSYkKGnxa_"
      },
      "execution_count": 16,
      "outputs": []
    },
    {
      "cell_type": "code",
      "source": [],
      "metadata": {
        "id": "UP1NfKzdnxdk"
      },
      "execution_count": 16,
      "outputs": []
    },
    {
      "cell_type": "code",
      "source": [],
      "metadata": {
        "id": "Idvwh0PgnxgO"
      },
      "execution_count": 16,
      "outputs": []
    },
    {
      "cell_type": "code",
      "source": [],
      "metadata": {
        "id": "tf86Y7U6nxio"
      },
      "execution_count": 16,
      "outputs": []
    },
    {
      "cell_type": "code",
      "source": [],
      "metadata": {
        "id": "32NOxm-FnxlB"
      },
      "execution_count": 16,
      "outputs": []
    },
    {
      "cell_type": "code",
      "source": [],
      "metadata": {
        "id": "Q1NA3luwnxnl"
      },
      "execution_count": 16,
      "outputs": []
    },
    {
      "cell_type": "code",
      "source": [],
      "metadata": {
        "id": "MinTrD_znxqC"
      },
      "execution_count": 16,
      "outputs": []
    },
    {
      "cell_type": "code",
      "source": [],
      "metadata": {
        "id": "iCfdqpqwnxsk"
      },
      "execution_count": 16,
      "outputs": []
    },
    {
      "cell_type": "code",
      "source": [],
      "metadata": {
        "id": "Q7jNl7BWnxvJ"
      },
      "execution_count": 16,
      "outputs": []
    },
    {
      "cell_type": "code",
      "source": [],
      "metadata": {
        "id": "R3sWcgcfnxxo"
      },
      "execution_count": 16,
      "outputs": []
    },
    {
      "cell_type": "code",
      "source": [],
      "metadata": {
        "id": "TtmpYXq6nx0K"
      },
      "execution_count": 16,
      "outputs": []
    },
    {
      "cell_type": "code",
      "source": [],
      "metadata": {
        "id": "2Ra2Q9blnx2u"
      },
      "execution_count": 16,
      "outputs": []
    },
    {
      "cell_type": "code",
      "source": [],
      "metadata": {
        "id": "R-1xuIhLnx46"
      },
      "execution_count": 16,
      "outputs": []
    },
    {
      "cell_type": "code",
      "source": [],
      "metadata": {
        "id": "fKaQ8w8anx7k"
      },
      "execution_count": 16,
      "outputs": []
    },
    {
      "cell_type": "code",
      "source": [],
      "metadata": {
        "id": "pNO-eo4unx9v"
      },
      "execution_count": 16,
      "outputs": []
    }
  ]
}