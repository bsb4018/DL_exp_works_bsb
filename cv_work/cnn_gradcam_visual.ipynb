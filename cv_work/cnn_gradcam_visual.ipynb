{
 "cells": [
  {
   "cell_type": "code",
   "execution_count": null,
   "metadata": {},
   "outputs": [],
   "source": [
    "import numpy as np\n",
    "from matplotlib import pyplot as plt\n",
    "%matplotlib inline"
   ]
  },
  {
   "cell_type": "code",
   "execution_count": null,
   "metadata": {},
   "outputs": [],
   "source": [
    "import tensorflow as tf\n",
    "tf.config.list_physical_devices('GPU')"
   ]
  },
  {
   "cell_type": "code",
   "execution_count": null,
   "metadata": {},
   "outputs": [],
   "source": [
    "from tf_keras_vis.utils import num_of_gpus\n",
    "_, gpus = num_of_gpus()\n",
    "print('{} GPUs'.format(gpus))"
   ]
  },
  {
   "cell_type": "code",
   "execution_count": null,
   "metadata": {},
   "outputs": [],
   "source": [
    "tf.config.list_physical_devices('GPU')"
   ]
  },
  {
   "cell_type": "code",
   "execution_count": null,
   "metadata": {},
   "outputs": [],
   "source": [
    "from tensorflow.keras.applications.vgg16 import VGG16 as Model\n",
    "from tensorflow.keras.applications.vgg16 import preprocess_input\n",
    "from tensorflow.keras.preprocessing.image import load_img\n",
    "\n",
    "# Load model\n",
    "model = Model(weights='imagenet', include_top=True)\n",
    "model.summary()"
   ]
  },
  {
   "cell_type": "code",
   "execution_count": null,
   "metadata": {},
   "outputs": [],
   "source": [
    "from tensorflow.keras.preprocessing.image import load_img\n",
    "\n",
    "# Image titles\n",
    "image_titles = ['Goldfish', 'Bear', 'Assault rifle']\n",
    "\n",
    "# Load images\n",
    "img1 = load_img('goldfish.jpg', target_size=(224, 224))\n",
    "img2 = load_img('bear.jpg', target_size=(224, 224))\n",
    "img3 = load_img('soldiers.jpg', target_size=(224, 224))\n",
    "images = np.asarray([np.array(img1), np.array(img2), np.array(img3)])\n",
    "\n",
    "# Preparing input data\n",
    "X = preprocess_input(images)\n",
    "\n",
    "# Rendering\n",
    "subplot_args = { 'nrows': 1, 'ncols': 3, 'figsize': (9, 3),\n",
    "                 'subplot_kw': {'xticks': [], 'yticks': []} }\n",
    "f, ax = plt.subplots(**subplot_args)\n",
    "for i, title in enumerate(image_titles):\n",
    "    ax[i].set_title(title, fontsize=14)\n",
    "    ax[i].imshow(images[i])\n",
    "plt.tight_layout()\n",
    "plt.show()"
   ]
  },
  {
   "cell_type": "code",
   "execution_count": null,
   "metadata": {},
   "outputs": [],
   "source": [
    "# The `output` variable refer to the output of the model,\n",
    "# so, in this case, `output` shape is `(3, 1000)` i.e., (samples, classes).\n",
    "def loss(output):\n",
    "    # 1 is the imagenet index corresponding to Goldfish, 294 to Bear and 413 to Assault Rifle.\n",
    "    return (output[0][1], output[1][294], output[2][413])"
   ]
  },
  {
   "cell_type": "code",
   "execution_count": null,
   "metadata": {},
   "outputs": [],
   "source": [
    "'''\n",
    "Then, when the softmax activation function is applied to the last layer of model, \n",
    "it may obstruct generating the attention images, so you need to replace the function \n",
    "to a linear function. Here, we does so using model_modifier.\n",
    "'''\n",
    "def model_modifier(m):\n",
    "    m.layers[-1].activation = tf.keras.activations.linear\n",
    "    return m"
   ]
  },
  {
   "cell_type": "code",
   "execution_count": null,
   "metadata": {},
   "outputs": [],
   "source": [
    "%%time\n",
    "\n",
    "#GRADCAM\n",
    "from tensorflow.keras import backend as K\n",
    "from tf_keras_vis.utils import normalize\n",
    "from matplotlib import cm\n",
    "from tf_keras_vis.gradcam import Gradcam\n",
    "\n",
    "gradcam = Gradcam(model,\n",
    "                  model_modifier=model_modifier,\n",
    "                  clone=False)\n",
    "\n",
    "# Generate heatmap with GradCAM\n",
    "cam = gradcam(loss,\n",
    "              X,\n",
    "              penultimate_layer=-1, \n",
    "             )\n",
    "cam = normalize(cam)\n",
    "\n",
    "f, ax = plt.subplots(**subplot_args)\n",
    "for i, title in enumerate(image_titles):\n",
    "    heatmap = np.uint8(cm.jet(cam[i])[..., :3] * 255)\n",
    "    ax[i].set_title(title, fontsize=14)\n",
    "    ax[i].imshow(images[i])\n",
    "    ax[i].imshow(heatmap, cmap='jet', alpha=0.5) # overlay\n",
    "plt.tight_layout()\n",
    "plt.show()"
   ]
  },
  {
   "cell_type": "code",
   "execution_count": null,
   "metadata": {},
   "outputs": [],
   "source": [
    "%%time\n",
    "\n",
    "#GRADCAM++\n",
    "from tf_keras_vis.gradcam import GradcamPlusPlus\n",
    "\n",
    "gradcam = GradcamPlusPlus(model,\n",
    "                          model_modifier,\n",
    "                          clone=False)\n",
    "\n",
    "# Generate heatmap with GradCAM++\n",
    "cam = gradcam(loss,\n",
    "              X,\n",
    "              penultimate_layer=-1, \n",
    "             )\n",
    "cam = normalize(cam)\n",
    "\n",
    "f, ax = plt.subplots(**subplot_args)\n",
    "for i, title in enumerate(image_titles):\n",
    "    heatmap = np.uint8(cm.jet(cam[i])[..., :3] * 255)\n",
    "    ax[i].set_title(title, fontsize=14)\n",
    "    ax[i].imshow(images[i])\n",
    "    ax[i].imshow(heatmap, cmap='jet', alpha=0.5)\n",
    "plt.tight_layout()\n",
    "plt.show()"
   ]
  },
  {
   "cell_type": "code",
   "execution_count": null,
   "metadata": {},
   "outputs": [],
   "source": [
    "%%time\n",
    "\n",
    "#ScoreCAM\n",
    "from tf_keras_vis.scorecam import ScoreCAM\n",
    "\n",
    "# Create ScoreCAM object\n",
    "scorecam = ScoreCAM(model, model_modifier, clone=False)\n",
    "\n",
    "if gpus > 0:\n",
    "    # Generate heatmap with ScoreCAM\n",
    "    cam = scorecam(loss,\n",
    "                   X,\n",
    "                   penultimate_layer=-1,\n",
    "                   max_N=-1 \n",
    "                  )\n",
    "    cam = normalize(cam)\n",
    "\n",
    "    f, ax = plt.subplots(**subplot_args)\n",
    "    for i, title in enumerate(image_titles):\n",
    "        heatmap = np.uint8(cm.jet(cam[i])[..., :3] * 255)\n",
    "        ax[i].set_title(title, fontsize=14)\n",
    "        ax[i].imshow(images[i])\n",
    "        ax[i].imshow(heatmap, cmap='jet', alpha=0.5)\n",
    "    plt.tight_layout()\n",
    "    plt.show()\n",
    "else:\n",
    "    print(\"NOTE: Change to GPU to see visual output\\n\")"
   ]
  },
  {
   "cell_type": "code",
   "execution_count": null,
   "metadata": {},
   "outputs": [],
   "source": [
    "%%time\n",
    "\n",
    "#Faster-ScoreCAM -> more efficient version of ScoreCAM\n",
    "scorecam = ScoreCAM(model, model_modifier, clone=False)\n",
    "\n",
    "# Generate heatmap with Faster-ScoreCAM\n",
    "cam = scorecam(loss,\n",
    "               X,\n",
    "               penultimate_layer=-1, # model.layers number\n",
    "               max_N=10\n",
    "              )\n",
    "cam = normalize(cam)\n",
    "\n",
    "f, ax = plt.subplots(**subplot_args)\n",
    "for i, title in enumerate(image_titles):\n",
    "    heatmap = np.uint8(cm.jet(cam[i])[..., :3] * 255)\n",
    "    ax[i].set_title(title, fontsize=14)\n",
    "    ax[i].imshow(images[i])\n",
    "    ax[i].imshow(heatmap, cmap='jet', alpha=0.5)\n",
    "plt.tight_layout()\n",
    "plt.show()\n"
   ]
  },
  {
   "cell_type": "code",
   "execution_count": null,
   "metadata": {},
   "outputs": [],
   "source": []
  }
 ],
 "metadata": {
  "kernelspec": {
   "display_name": "gendev",
   "language": "python",
   "name": "python3"
  },
  "language_info": {
   "codemirror_mode": {
    "name": "ipython",
    "version": 3
   },
   "file_extension": ".py",
   "mimetype": "text/x-python",
   "name": "python",
   "nbconvert_exporter": "python",
   "pygments_lexer": "ipython3",
   "version": "3.8.13"
  },
  "orig_nbformat": 4,
  "vscode": {
   "interpreter": {
    "hash": "957c0960a41ceee45c80bc68b1e41107b85cf57fba7704f571c35b1ea64b2957"
   }
  }
 },
 "nbformat": 4,
 "nbformat_minor": 2
}
