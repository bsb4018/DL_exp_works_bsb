{
 "cells": [
  {
   "cell_type": "code",
   "execution_count": null,
   "metadata": {},
   "outputs": [],
   "source": [
    "%%capture\n",
    "# PyTorch Image Models\n",
    "!pip install timm"
   ]
  },
  {
   "cell_type": "code",
   "execution_count": null,
   "metadata": {},
   "outputs": [],
   "source": [
    "import os\n",
    "import matplotlib.pyplot as plt\n",
    "import numpy as np\n",
    "import PIL\n",
    "\n",
    "import torch\n",
    "import torch.nn.functional as F\n",
    "import torchvision\n",
    "import torchvision.transforms as T\n",
    "\n",
    "from timm import create_model"
   ]
  },
  {
   "cell_type": "code",
   "execution_count": null,
   "metadata": {},
   "outputs": [],
   "source": [
    "device = 'cuda' if torch.cuda.is_available() else 'cpu'\n",
    "print(\"device = \", device)"
   ]
  },
  {
   "cell_type": "code",
   "execution_count": null,
   "metadata": {},
   "outputs": [],
   "source": [
    "# Load your model\n",
    "model_name = \"vit_base_patch16_224\"\n",
    "# create a ViT model : https://github.com/rwightman/pytorch-image-models/blob/master/timm/models/vision_transformer.py\n",
    "model = create_model(model_name, pretrained=True).to(device)"
   ]
  },
  {
   "cell_type": "code",
   "execution_count": null,
   "metadata": {},
   "outputs": [],
   "source": [
    "# Define transforms for test\n",
    "IMG_SIZE = (224, 224)\n",
    "NORMALIZE_MEAN = (0.5, 0.5, 0.5)\n",
    "NORMALIZE_STD = (0.5, 0.5, 0.5)\n",
    "transforms = [\n",
    "              T.Resize(IMG_SIZE),\n",
    "              T.ToTensor(),\n",
    "              T.Normalize(NORMALIZE_MEAN, NORMALIZE_STD),\n",
    "              ]\n",
    "\n",
    "transforms = T.Compose(transforms)"
   ]
  },
  {
   "cell_type": "code",
   "execution_count": null,
   "metadata": {},
   "outputs": [],
   "source": [
    "%%capture\n",
    "# ImageNet Labels\n",
    "!wget https://storage.googleapis.com/bit_models/ilsvrc2012_wordnet_lemmas.txt\n",
    "imagenet_labels = dict(enumerate(open('ilsvrc2012_wordnet_lemmas.txt')))\n",
    "\n",
    "# Demo Image\n",
    "!wget https://github.com/hirotomusiker/schwert_colab_data_storage/blob/master/images/vit_demo/santorini.png?raw=true -O santorini.png\n",
    "img = PIL.Image.open('santorini.png')\n",
    "img_tensor = transforms(img).unsqueeze(0).to(device)"
   ]
  },
  {
   "cell_type": "code",
   "execution_count": null,
   "metadata": {},
   "outputs": [],
   "source": [
    "# end-to-end inference\n",
    "output = model(img_tensor)\n",
    "print(f\"Inference Result: {imagenet_labels[int(torch.argmax(output))]}\")\n",
    "plt.imshow(img)"
   ]
  },
  {
   "cell_type": "code",
   "execution_count": null,
   "metadata": {},
   "outputs": [],
   "source": [
    "### **1. Split Image into Patches**\n",
    "'''\n",
    "The input image is split into N patches (N = 14 x 14 for ViT-Base)\n",
    "and converted to D=768 embedding vectors by learnable 2D convolution:\n",
    "Conv2d(3, 768, kernel_size=(16, 16), stride=(16, 16))\n",
    "'''\n",
    "\n",
    "patches = model.patch_embed(img_tensor)  # patch embedding convolution, 14 * 14 = 196\n",
    "print(\"Image tensor: \", img_tensor.shape)\n",
    "print(\"Patch embeddings: \", patches.shape)"
   ]
  },
  {
   "cell_type": "code",
   "execution_count": null,
   "metadata": {},
   "outputs": [],
   "source": [
    "# The image is divided into patch embeddings by Conv2d \n",
    "# with stride=(16, 16) shown above.\n",
    "fig = plt.figure(figsize=(8, 8))\n",
    "fig.suptitle(\"Visualization of Patches\", fontsize=24)\n",
    "fig.add_axes()\n",
    "img = np.asarray(img)\n",
    "for i in range(0, 196):\n",
    "    x = i % 14\n",
    "    y = i // 14\n",
    "    patch = img[y*16:(y+1)*16, x*16:(x+1)*16]\n",
    "    ax = fig.add_subplot(14, 14, i+1)\n",
    "    ax.axes.get_xaxis().set_visible(False)\n",
    "    ax.axes.get_yaxis().set_visible(False)\n",
    "    ax.imshow(patch)"
   ]
  },
  {
   "cell_type": "code",
   "execution_count": null,
   "metadata": {},
   "outputs": [],
   "source": [
    "#Add Position Embeddings\n",
    "'''\n",
    "To make patches position-aware, learnable 'position embedding' vectors are \n",
    "added to the patch embedding vectors. The position embedding vectors learn \n",
    "distance within the image thus neighboring ones have high similarity.\n",
    "'''\n",
    "\n",
    "# Visualization of position embeddings\n",
    "pos_embed = model.pos_embed\n",
    "print(pos_embed.shape)\n"
   ]
  },
  {
   "cell_type": "code",
   "execution_count": null,
   "metadata": {},
   "outputs": [],
   "source": [
    "# Visualize position embedding similarities.\n",
    "# One cell shows cos similarity between an \n",
    "# embedding and all the other embeddings.\n",
    "\n",
    "cos = torch.nn.CosineSimilarity(dim=1, eps=1e-6)\n",
    "fig = plt.figure(figsize=(8, 8))\n",
    "fig.suptitle(\"Visualization of position embedding similarities\", fontsize=24)\n",
    "for i in range(1, pos_embed.shape[1]):\n",
    "    sim = F.cosine_similarity(pos_embed[0, i:i+1], pos_embed[0, 1:], dim=1)\n",
    "    sim = sim.reshape((14, 14)).detach().cpu().numpy()\n",
    "    ax = fig.add_subplot(14, 14, i)\n",
    "    ax.axes.get_xaxis().set_visible(False)\n",
    "    ax.axes.get_yaxis().set_visible(False)\n",
    "    ax.imshow(sim)"
   ]
  },
  {
   "cell_type": "code",
   "execution_count": null,
   "metadata": {},
   "outputs": [],
   "source": [
    "#Make Transformer Input\n",
    "'''\n",
    "A learnable class token is prepended to the patch embedding vectors as \n",
    "the 0th vector. 197 (1 + 14 x 14) learnable position embedding vectors \n",
    "are added to the patch embedding vectors.\n",
    "'''\n",
    "\n",
    "transformer_input = torch.cat((model.cls_token, patches), dim=1) + pos_embed\n",
    "print(\"Transformer input: \", transformer_input.shape)\n"
   ]
  },
  {
   "cell_type": "code",
   "execution_count": null,
   "metadata": {},
   "outputs": [],
   "source": [
    "#Series Transformer Encoders\n",
    "\n",
    "print(\"Input tensor to Transformer (z0): \", transformer_input.shape)\n",
    "x = transformer_input.clone()\n",
    "for i, blk in enumerate(model.blocks):\n",
    "    print(\"Entering the Transformer Encoder {}\".format(i))\n",
    "    x = blk(x)\n",
    "x = model.norm(x)\n",
    "transformer_output = x[:, 0]\n",
    "print(\"Output vector from Transformer (z12-0):\", transformer_output.shape)"
   ]
  },
  {
   "cell_type": "code",
   "execution_count": null,
   "metadata": {},
   "outputs": [],
   "source": [
    "#How Attention Works\n",
    "'''\n",
    "See what the actual attention looks like.\n",
    "'''\n",
    "\n",
    "print(\"Transformer Multi-head Attention block:\")\n",
    "attention = model.blocks[0].attn\n",
    "print(attention)\n",
    "print(\"input of the transformer encoder:\", transformer_input.shape)"
   ]
  },
  {
   "cell_type": "code",
   "execution_count": null,
   "metadata": {},
   "outputs": [],
   "source": [
    "# fc layer to expand the dimension\n",
    "transformer_input_expanded = attention.qkv(transformer_input)[0]\n",
    "print(\"expanded to: \", transformer_input_expanded.shape)"
   ]
  },
  {
   "cell_type": "code",
   "execution_count": null,
   "metadata": {},
   "outputs": [],
   "source": [
    "# Split qkv into mulitple q, k, and v vectors for multi-head attention\n",
    "qkv = transformer_input_expanded.reshape(197, 3, 12, 64)  # (N=197, (qkv), H=12, D/H=64)\n",
    "print(\"split qkv : \", qkv.shape)\n",
    "q = qkv[:, 0].permute(1, 0, 2)  # (H=12, N=197, D/H=64)\n",
    "k = qkv[:, 1].permute(1, 0, 2)  # (H=12, N=197, D/H=64)\n",
    "kT = k.permute(0, 2, 1)  # (H=12, D/H=64, N=197)\n",
    "print(\"transposed ks: \", kT.shape)"
   ]
  },
  {
   "cell_type": "code",
   "execution_count": null,
   "metadata": {},
   "outputs": [],
   "source": [
    "# Attention Matrix\n",
    "attention_matrix = q @ kT\n",
    "print(\"attention matrix: \", attention_matrix.shape)\n",
    "plt.imshow(attention_matrix[3].detach().cpu().numpy())"
   ]
  },
  {
   "cell_type": "code",
   "execution_count": null,
   "metadata": {},
   "outputs": [],
   "source": [
    "# Visualize attention matrix\n",
    "fig = plt.figure(figsize=(16, 8))\n",
    "fig.suptitle(\"Visualization of Attention\", fontsize=24)\n",
    "fig.add_axes()\n",
    "img = np.asarray(img)\n",
    "ax = fig.add_subplot(2, 4, 1)\n",
    "ax.imshow(img)\n",
    "for i in range(7):  # visualize the 100th rows of attention matrices in the 0-7th heads\n",
    "    attn_heatmap = attention_matrix[i, 100, 1:].reshape((14, 14)).detach().cpu().numpy()\n",
    "    ax = fig.add_subplot(2, 4, i+2)\n",
    "    ax.imshow(attn_heatmap)"
   ]
  },
  {
   "cell_type": "code",
   "execution_count": null,
   "metadata": {},
   "outputs": [],
   "source": [
    "# MLP (Classification) Head\n",
    "'''\n",
    "The 0-th output vector from the transformer output vectors \n",
    "(corresponding to the class token input) is fed to the MLP head.  \n",
    "The 1000-dimension classification result is the output \n",
    "of the whole pipeline.\n",
    "'''\n",
    "\n",
    "print(\"Classification head: \", model.head)\n",
    "result = model.head(transformer_output)\n",
    "result_label_id = int(torch.argmax(result))\n",
    "plt.plot(result.detach().cpu().numpy()[0])\n",
    "plt.title(\"Classification result\")\n",
    "plt.xlabel(\"class id\")\n",
    "print(\"Inference result : id = {}, label name = {}\".format(\n",
    "    result_label_id, imagenet_labels[result_label_id]))"
   ]
  },
  {
   "cell_type": "code",
   "execution_count": null,
   "metadata": {},
   "outputs": [],
   "source": []
  },
  {
   "cell_type": "code",
   "execution_count": null,
   "metadata": {},
   "outputs": [],
   "source": []
  },
  {
   "cell_type": "code",
   "execution_count": null,
   "metadata": {},
   "outputs": [],
   "source": []
  }
 ],
 "metadata": {
  "language_info": {
   "name": "python"
  },
  "orig_nbformat": 4
 },
 "nbformat": 4,
 "nbformat_minor": 2
}
